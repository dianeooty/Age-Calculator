{
 "cells": [
  {
   "cell_type": "code",
   "execution_count": null,
   "id": "2d129839",
   "metadata": {},
   "outputs": [],
   "source": [
    "# Resource: https://pythonistaplanet.com/age-calculator-app-using-python-tkinter/"
   ]
  },
  {
   "cell_type": "code",
   "execution_count": 1,
   "id": "034a1f14",
   "metadata": {},
   "outputs": [],
   "source": [
    "# Import Libraries\n",
    "\n",
    "# Datetime to work with dates\n",
    "from datetime import datetime\n",
    "\n",
    "# tkinter for GUI\n",
    "import tkinter as tk\n",
    "\n",
    "# PIL for images\n",
    "from PIL import Image,ImageTk"
   ]
  },
  {
   "cell_type": "code",
   "execution_count": 2,
   "id": "cade6607",
   "metadata": {},
   "outputs": [
    {
     "data": {
      "text/plain": [
       "datetime.date(2023, 5, 4)"
      ]
     },
     "execution_count": 2,
     "metadata": {},
     "output_type": "execute_result"
    }
   ],
   "source": [
    "# Check today's date\n",
    "today = datetime.today().date()\n",
    "today"
   ]
  },
  {
   "cell_type": "code",
   "execution_count": 3,
   "id": "7f1eabe5",
   "metadata": {},
   "outputs": [
    {
     "data": {
      "text/plain": [
       "''"
      ]
     },
     "execution_count": 3,
     "metadata": {},
     "output_type": "execute_result"
    }
   ],
   "source": [
    "# Create application called window\n",
    "window=tk.Tk()\n",
    "window.geometry(\"780x780\")\n",
    "window.title(\" Age Calculator App \")"
   ]
  },
  {
   "cell_type": "code",
   "execution_count": 4,
   "id": "83661980",
   "metadata": {},
   "outputs": [],
   "source": [
    "# Create the labels for first name and put labels in grid\n",
    "name = tk.Label(text = \"Your Name\")\n",
    "name.grid(column=0,row=1)\n",
    "year = tk.Label(text = \"Birth Year\")\n",
    "year.grid(column=0,row=2)\n",
    "month = tk.Label(text = \"Birth Month\")\n",
    "month.grid(column=0,row=3)\n",
    "date = tk.Label(text = \"Birth Day\")\n",
    "date.grid(column=0,row=4)\n",
    "\n",
    "# Create the labels for other name and put labels in grid\n",
    "other_name = tk.Label(text = \"Other Person's Name\")\n",
    "other_name.grid(column=0,row=5)\n",
    "other_year = tk.Label(text = \"Birth Year\")\n",
    "other_year.grid(column=0,row=6)\n",
    "other_month = tk.Label(text = \"Birth Month\")\n",
    "other_month.grid(column=0,row=7)\n",
    "other_date = tk.Label(text = \"Birth Day\")\n",
    "other_date.grid(column=0,row=8)"
   ]
  },
  {
   "cell_type": "code",
   "execution_count": 5,
   "id": "57f5abfb",
   "metadata": {},
   "outputs": [],
   "source": [
    "# Create user inputs for the labels and place fields on right side to corresponding labels\n",
    "nameEntry = tk.Entry()\n",
    "nameEntry.grid(column=1,row=1)\n",
    "yearEntry = tk.Entry()\n",
    "yearEntry.grid(column=1,row=2)\n",
    "monthEntry = tk.Entry()\n",
    "monthEntry.grid(column=1,row=3)\n",
    "dateEntry = tk.Entry()\n",
    "dateEntry.grid(column=1,row=4)\n",
    "\n",
    "other_nameEntry = tk.Entry()\n",
    "other_nameEntry.grid(column=1,row=5)\n",
    "other_yearEntry = tk.Entry()\n",
    "other_yearEntry.grid(column=1,row=6)\n",
    "other_monthEntry = tk.Entry()\n",
    "other_monthEntry.grid(column=1,row=7)\n",
    "other_dateEntry = tk.Entry()\n",
    "other_dateEntry.grid(column=1,row=8)"
   ]
  },
  {
   "cell_type": "code",
   "execution_count": 6,
   "id": "29059bad",
   "metadata": {},
   "outputs": [],
   "source": [
    "# Create a function to fetch the user inputs that will pass to the _init_ method of the _init_ classes\n",
    "# Use int() to convert values to integer format\n",
    "# Use capitalize() to format the names\n",
    "def getInput():\n",
    "    name=nameEntry.get().capitalize()\n",
    "    user = Person(name,datetime(int(yearEntry.get()),int(monthEntry.get()),int(dateEntry.get())))\n",
    "\n",
    "    other_name=other_nameEntry.get().capitalize()\n",
    "    other_user = Person2(other_name,datetime(int(other_yearEntry.get()),int(other_monthEntry.get()),int(other_dateEntry.get())))\n",
    "    \n",
    "    # Define a variable that calculates the age difference between the birthdates\n",
    "    age_apart = abs(user.age() - other_user.age())\n",
    "    \n",
    "    # Create a text area to display the output\n",
    "    textArea = tk.Text(master=window,height=10,width=50)\n",
    "    textArea.grid(column=1,row=10)\n",
    "    answer = \" Hi {user}! You are {age} years old!!!\\n {other_user} is {age2} years old!!! \\n You are {age_apart} years apart!!!\".format(user=name, age=user.age(), other_user=other_name, age2=other_user.age(), age_apart=age_apart)\n",
    "    textArea.insert(tk.END,answer)"
   ]
  },
  {
   "cell_type": "code",
   "execution_count": 7,
   "id": "41ea73da",
   "metadata": {},
   "outputs": [],
   "source": [
    "# Create a button for user submission and link button to getInput function\n",
    "button=tk.Button(window,text=\"Calculate Age\",command=getInput,bg=\"green\")\n",
    "button.grid(column=1,row=9)"
   ]
  },
  {
   "cell_type": "code",
   "execution_count": 8,
   "id": "901103e6",
   "metadata": {},
   "outputs": [],
   "source": [
    "# Define classes,that calculates the ages using birthdates and today's date\n",
    "class Person:\n",
    "    def __init__(self,name,birthdate):\n",
    "        self.name = name\n",
    "        self.birthdate = birthdate\n",
    "    def age(self):\n",
    "        today = datetime.today().date()\n",
    "        age = today.year-self.birthdate.year-((today.month, today.day) < (self.birthdate.month, self.birthdate.day))\n",
    "        return age\n",
    "    \n",
    "class Person2:\n",
    "    def __init__(self2,other_name,birthdate2):\n",
    "        self2.other_name = other_name\n",
    "        self2.birthdate2 = birthdate2\n",
    "    def age(self2):\n",
    "        today = datetime.today().date()\n",
    "        age2 = today.year-self2.birthdate2.year-((today.month, today.day) < (self2.birthdate2.month, self2.birthdate2.day))\n",
    "        return age2"
   ]
  },
  {
   "cell_type": "code",
   "execution_count": 9,
   "id": "5ae7b02b",
   "metadata": {},
   "outputs": [],
   "source": [
    "# Open the image from the folder and add an image to the app for aesthetics\n",
    "image=Image.open('images.png')\n",
    "image.thumbnail((300,300),Image.Resampling.LANCZOS)\n",
    "photo=ImageTk.PhotoImage(image)\n",
    "label_image=tk.Label(image=photo)\n",
    "label_image.grid(column=1,row=0)"
   ]
  },
  {
   "cell_type": "code",
   "execution_count": 10,
   "id": "5b03df3b",
   "metadata": {},
   "outputs": [],
   "source": [
    "# Call the mainloop() for the window application to run \n",
    "window.mainloop()"
   ]
  },
  {
   "cell_type": "code",
   "execution_count": null,
   "id": "42fa0c39",
   "metadata": {},
   "outputs": [],
   "source": []
  }
 ],
 "metadata": {
  "kernelspec": {
   "display_name": "PythonData",
   "language": "python",
   "name": "pythondata"
  },
  "language_info": {
   "codemirror_mode": {
    "name": "ipython",
    "version": 3
   },
   "file_extension": ".py",
   "mimetype": "text/x-python",
   "name": "python",
   "nbconvert_exporter": "python",
   "pygments_lexer": "ipython3",
   "version": "3.7.15"
  }
 },
 "nbformat": 4,
 "nbformat_minor": 5
}
